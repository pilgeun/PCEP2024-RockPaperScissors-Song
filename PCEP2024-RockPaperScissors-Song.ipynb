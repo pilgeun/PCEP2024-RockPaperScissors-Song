{
 "cells": [
  {
   "cell_type": "markdown",
   "id": "d6519175-d5d9-4e2b-8d76-d9f8cd70f1ba",
   "metadata": {},
   "source": [
    "Create a program where the user can play a game of rock, paper, scissors against a computer. Set a play choice (rock, paper, or scissors) for the computer player and during the program, request for the user to input their play choice.\n",
    "\n",
    "The rules in Rock, Paper, Scissors are:\n",
    "<ul>\n",
    "<li>Rock beats scissors</li>\n",
    "<li>Scissors beats paper</li>\n",
    "<li>Paper beats rock</li>  \n",
    "</ul>\n",
    "<p>\n",
    "If the user wins, then display \"You win!\" \n",
    "If they lose against the computer, then display \"You lose.\" \n",
    "If the computer and the user have the same play choice, display \"It's a draw.\"\n",
    "</p>\n",
    "<b>BONUS:</b> Randomize the play choice for the computer (hint: Python has a library called random). Also, ask the user if they would like to play again. If they do, start the game again but if not, thank the user for playing the game."
   ]
  },
  {
   "cell_type": "code",
   "execution_count": null,
   "id": "349f013e-6b9e-479a-bc2d-ac8c003beb13",
   "metadata": {},
   "outputs": [
    {
     "name": "stdout",
     "output_type": "stream",
     "text": [
      "Let's play Rock, Paper, Scissors\n"
     ]
    },
    {
     "name": "stdin",
     "output_type": "stream",
     "text": [
      "Choose rock, paper, or scissors:  rock\n"
     ]
    },
    {
     "name": "stdout",
     "output_type": "stream",
     "text": [
      "You lose.\n"
     ]
    },
    {
     "name": "stdin",
     "output_type": "stream",
     "text": [
      "Would you like to play again? (y/n):  y\n",
      "Choose rock, paper, or scissors:  PaPer\n"
     ]
    },
    {
     "name": "stdout",
     "output_type": "stream",
     "text": [
      "You lose.\n"
     ]
    },
    {
     "name": "stdin",
     "output_type": "stream",
     "text": [
      "Would you like to play again? (y/n):  Yes\n"
     ]
    }
   ],
   "source": [
    "import random \n",
    "\n",
    "hands = ('rock', 'paper', 'scissors')   # tuple with each hand\n",
    "\n",
    "def showdown (you, computer): # compare user and computer choice\n",
    "    if you == computer:\n",
    "        print(\"It's a draw.\")\n",
    "    \n",
    "    elif you == \"rock\" and computer == \"scissors\" or you == \"paper\" and computer == \"rock\" or you == \"scissors\" and computer == \"paper\":\n",
    "        print(\"You win!\")\n",
    "        \n",
    "    else :\n",
    "        print(\"You lose.\")\n",
    "\n",
    "# game start\n",
    "print(\"Let's play Rock, Paper, Scissors\")\n",
    "again = \"y\"\n",
    "\n",
    "while again[0] != 'n':  \n",
    "    computer_choice = hands[random.randint(0,2)]    # computer randomly assigned one of the hands\n",
    "    \n",
    "    user_choice = \"\" # reset user input\n",
    "    \n",
    "    # debugging\n",
    "    # print(computer_choice)  \n",
    "    \n",
    "    while user_choice not in hands:    # user must pick valid hand\n",
    "        user_choice = input(\"Choose rock, paper, or scissors: \")\n",
    "        user_choice = user_choice.lower()\n",
    "        for hand in hands:\n",
    "            if hand.startswith(user_choice):    # allows user to choose hand by typing the first letters (e.g. r, p, or s)\n",
    "                user_choice = hand\n",
    "   \n",
    "    showdown(user_choice, computer_choice)\n",
    "    \n",
    "    # game ends if input starts with N or n\n",
    "    again = input(\"Would you like to play again? (y/n): \")\n",
    "    again = again.lower()\n",
    "    \n",
    "# game end\n",
    "print(\"Thanks for playing!\")\n"
   ]
  },
  {
   "cell_type": "code",
   "execution_count": null,
   "id": "855875ad-590c-4798-bdfe-9d5287091f1a",
   "metadata": {},
   "outputs": [],
   "source": []
  }
 ],
 "metadata": {
  "kernelspec": {
   "display_name": "Python 3 (ipykernel)",
   "language": "python",
   "name": "python3"
  },
  "language_info": {
   "codemirror_mode": {
    "name": "ipython",
    "version": 3
   },
   "file_extension": ".py",
   "mimetype": "text/x-python",
   "name": "python",
   "nbconvert_exporter": "python",
   "pygments_lexer": "ipython3",
   "version": "3.11.7"
  }
 },
 "nbformat": 4,
 "nbformat_minor": 5
}
